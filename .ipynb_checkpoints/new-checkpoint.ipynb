{
 "cells": [
  {
   "cell_type": "code",
   "execution_count": null,
   "id": "530177d3",
   "metadata": {},
   "outputs": [],
   "source": [
    "# =========================\n",
    "# 0. Imports & global setup\n",
    "# =========================\n",
    "import os\n",
    "import random\n",
    "import shutil\n",
    "from pathlib import Path\n",
    "import numpy as np\n",
    "import matplotlib.pyplot as plt\n",
    "import tensorflow as tf\n",
    "from tensorflow import keras\n",
    "from tensorflow.keras import layers\n",
    "from sklearn.metrics import confusion_matrix, classification_report\n",
    "import seaborn as sns\n",
    "import json\n",
    "import math\n",
    "\n",
    "SEED = 42\n",
    "random.seed(SEED)\n",
    "np.random.seed(SEED)\n",
    "tf.random.set_seed(SEED)"
   ]
  },
  {
   "cell_type": "code",
   "execution_count": null,
   "id": "faa29ca0",
   "metadata": {},
   "outputs": [],
   "source": [
    "# ================\n",
    "# Config (edit)\n",
    "# ================\n",
    "# Set this to where you extracted the provided dataset (manually download):\n",
    "# Link: http://download.tensorflow.org/example_images/flower_photos.tgz\n",
    "DATA_DIR = \"flowers\"        # e.g., \"./flowers\" -> should contain daisy, dandelion, rose, sunflower, tulip\n",
    "SUBSETS_DIR = \"subsets\"     # where subsets will be created\n",
    "IMG_SIZE = (224, 224)\n",
    "BATCH_SIZE = 32\n",
    "AUTOTUNE = tf.data.AUTOTUNE\n",
    "CLASS_NAMES = [\"daisy\", \"dandelion\", \"rose\", \"sunflower\", \"tulip\"]  # ensure to match folder names"
   ]
  },
  {
   "cell_type": "code",
   "execution_count": null,
   "id": "126cd2f9",
   "metadata": {},
   "outputs": [],
   "source": []
  },
  {
   "cell_type": "code",
   "execution_count": null,
   "id": "ba1588b5",
   "metadata": {},
   "outputs": [],
   "source": []
  },
  {
   "cell_type": "code",
   "execution_count": null,
   "metadata": {},
   "outputs": [],
   "source": []
  },
  {
   "cell_type": "code",
   "execution_count": null,
   "id": "54a2390d",
   "metadata": {},
   "outputs": [],
   "source": []
  },
  {
   "cell_type": "code",
   "execution_count": null,
   "id": "ccc3833a",
   "metadata": {},
   "outputs": [],
   "source": []
  }
 ],
 "metadata": {
  "language_info": {
   "name": "python"
  }
 },
 "nbformat": 4,
 "nbformat_minor": 5
}
